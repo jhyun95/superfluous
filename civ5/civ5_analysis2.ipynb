{
 "cells": [
  {
   "cell_type": "code",
   "execution_count": 1,
   "metadata": {
    "collapsed": true
   },
   "outputs": [],
   "source": [
    "import numpy as np\n",
    "import scipy.stats\n",
    "import sklearn.decomposition\n",
    "import pandas as pd\n",
    "import matplotlib as mpl\n",
    "import matplotlib.pyplot as plt\n",
    "import seaborn as sns\n",
    "mpl.rcParams['font.family'] = 'Arial'\n",
    "plt.rcParams['svg.fonttype'] = 'none' # export SVG text as text, not paths\n",
    "plt.rcParams['axes.facecolor'] = 'w' # white axes background\n",
    "plt.rcParams['savefig.facecolor'] = 'w' # white main background, for blog posts"
   ]
  },
  {
   "cell_type": "markdown",
   "metadata": {},
   "source": [
    "# Part 2: Association tests and feature selection"
   ]
  },
  {
   "cell_type": "markdown",
   "metadata": {},
   "source": [
    "## 1. Load Civ5 data as in Part 1, and new Civ5 metadata"
   ]
  },
  {
   "cell_type": "code",
   "execution_count": 2,
   "metadata": {
    "collapsed": false
   },
   "outputs": [
    {
     "name": "stdout",
     "output_type": "stream",
     "text": [
      "(43, 63)\n"
     ]
    },
    {
     "data": {
      "text/html": [
       "<div>\n",
       "<style scoped>\n",
       "    .dataframe tbody tr th:only-of-type {\n",
       "        vertical-align: middle;\n",
       "    }\n",
       "\n",
       "    .dataframe tbody tr th {\n",
       "        vertical-align: top;\n",
       "    }\n",
       "\n",
       "    .dataframe thead th {\n",
       "        text-align: right;\n",
       "    }\n",
       "</style>\n",
       "<table border=\"1\" class=\"dataframe\">\n",
       "  <thead>\n",
       "    <tr style=\"text-align: right;\">\n",
       "      <th></th>\n",
       "      <th>Boldness</th>\n",
       "      <th>Chattiness</th>\n",
       "      <th>Denounce Willingness</th>\n",
       "      <th>Diplomatic Balance</th>\n",
       "      <th>Friendship Willingness</th>\n",
       "      <th>Forgiveness</th>\n",
       "      <th>Loyalty</th>\n",
       "      <th>Meanness</th>\n",
       "      <th>City-State Competitiveness</th>\n",
       "      <th>Neediness</th>\n",
       "      <th>...</th>\n",
       "      <th>Friendly</th>\n",
       "      <th>Guarded</th>\n",
       "      <th>Hostile</th>\n",
       "      <th>Neutrality</th>\n",
       "      <th>War</th>\n",
       "      <th>CS Bully</th>\n",
       "      <th>CS Conquest</th>\n",
       "      <th>CS Friendly</th>\n",
       "      <th>CS Ignore</th>\n",
       "      <th>CS Protect</th>\n",
       "    </tr>\n",
       "  </thead>\n",
       "  <tbody>\n",
       "    <tr>\n",
       "      <th>Ahmad al-Mansur</th>\n",
       "      <td>4</td>\n",
       "      <td>6</td>\n",
       "      <td>5</td>\n",
       "      <td>5</td>\n",
       "      <td>6</td>\n",
       "      <td>5</td>\n",
       "      <td>6</td>\n",
       "      <td>5</td>\n",
       "      <td>5</td>\n",
       "      <td>6</td>\n",
       "      <td>...</td>\n",
       "      <td>8</td>\n",
       "      <td>6</td>\n",
       "      <td>4</td>\n",
       "      <td>5</td>\n",
       "      <td>5</td>\n",
       "      <td>4</td>\n",
       "      <td>4</td>\n",
       "      <td>6</td>\n",
       "      <td>4</td>\n",
       "      <td>6</td>\n",
       "    </tr>\n",
       "    <tr>\n",
       "      <th>Alexander</th>\n",
       "      <td>8</td>\n",
       "      <td>7</td>\n",
       "      <td>7</td>\n",
       "      <td>3</td>\n",
       "      <td>4</td>\n",
       "      <td>5</td>\n",
       "      <td>4</td>\n",
       "      <td>7</td>\n",
       "      <td>3</td>\n",
       "      <td>4</td>\n",
       "      <td>...</td>\n",
       "      <td>5</td>\n",
       "      <td>5</td>\n",
       "      <td>7</td>\n",
       "      <td>4</td>\n",
       "      <td>6</td>\n",
       "      <td>3</td>\n",
       "      <td>4</td>\n",
       "      <td>5</td>\n",
       "      <td>4</td>\n",
       "      <td>8</td>\n",
       "    </tr>\n",
       "    <tr>\n",
       "      <th>Ashurbanipal</th>\n",
       "      <td>6</td>\n",
       "      <td>3</td>\n",
       "      <td>6</td>\n",
       "      <td>5</td>\n",
       "      <td>5</td>\n",
       "      <td>4</td>\n",
       "      <td>5</td>\n",
       "      <td>5</td>\n",
       "      <td>3</td>\n",
       "      <td>4</td>\n",
       "      <td>...</td>\n",
       "      <td>5</td>\n",
       "      <td>5</td>\n",
       "      <td>6</td>\n",
       "      <td>5</td>\n",
       "      <td>8</td>\n",
       "      <td>5</td>\n",
       "      <td>7</td>\n",
       "      <td>4</td>\n",
       "      <td>4</td>\n",
       "      <td>3</td>\n",
       "    </tr>\n",
       "    <tr>\n",
       "      <th>Askia</th>\n",
       "      <td>7</td>\n",
       "      <td>5</td>\n",
       "      <td>5</td>\n",
       "      <td>6</td>\n",
       "      <td>6</td>\n",
       "      <td>4</td>\n",
       "      <td>6</td>\n",
       "      <td>6</td>\n",
       "      <td>4</td>\n",
       "      <td>4</td>\n",
       "      <td>...</td>\n",
       "      <td>6</td>\n",
       "      <td>6</td>\n",
       "      <td>6</td>\n",
       "      <td>5</td>\n",
       "      <td>7</td>\n",
       "      <td>7</td>\n",
       "      <td>8</td>\n",
       "      <td>5</td>\n",
       "      <td>5</td>\n",
       "      <td>4</td>\n",
       "    </tr>\n",
       "    <tr>\n",
       "      <th>Attila</th>\n",
       "      <td>8</td>\n",
       "      <td>5</td>\n",
       "      <td>6</td>\n",
       "      <td>4</td>\n",
       "      <td>3</td>\n",
       "      <td>4</td>\n",
       "      <td>4</td>\n",
       "      <td>8</td>\n",
       "      <td>3</td>\n",
       "      <td>3</td>\n",
       "      <td>...</td>\n",
       "      <td>3</td>\n",
       "      <td>3</td>\n",
       "      <td>8</td>\n",
       "      <td>5</td>\n",
       "      <td>8</td>\n",
       "      <td>8</td>\n",
       "      <td>7</td>\n",
       "      <td>4</td>\n",
       "      <td>5</td>\n",
       "      <td>3</td>\n",
       "    </tr>\n",
       "  </tbody>\n",
       "</table>\n",
       "<p>5 rows × 63 columns</p>\n",
       "</div>"
      ],
      "text/plain": [
       "                 Boldness  Chattiness  Denounce Willingness  \\\n",
       "Ahmad al-Mansur         4           6                     5   \n",
       "Alexander               8           7                     7   \n",
       "Ashurbanipal            6           3                     6   \n",
       "Askia                   7           5                     5   \n",
       "Attila                  8           5                     6   \n",
       "\n",
       "                 Diplomatic Balance  Friendship Willingness  Forgiveness  \\\n",
       "Ahmad al-Mansur                   5                       6            5   \n",
       "Alexander                         3                       4            5   \n",
       "Ashurbanipal                      5                       5            4   \n",
       "Askia                             6                       6            4   \n",
       "Attila                            4                       3            4   \n",
       "\n",
       "                 Loyalty  Meanness  City-State Competitiveness  Neediness  \\\n",
       "Ahmad al-Mansur        6         5                           5          6   \n",
       "Alexander              4         7                           3          4   \n",
       "Ashurbanipal           5         5                           3          4   \n",
       "Askia                  6         6                           4          4   \n",
       "Attila                 4         8                           3          3   \n",
       "\n",
       "                    ...      Friendly  Guarded  Hostile  Neutrality  War  \\\n",
       "Ahmad al-Mansur     ...             8        6        4           5    5   \n",
       "Alexander           ...             5        5        7           4    6   \n",
       "Ashurbanipal        ...             5        5        6           5    8   \n",
       "Askia               ...             6        6        6           5    7   \n",
       "Attila              ...             3        3        8           5    8   \n",
       "\n",
       "                 CS Bully  CS Conquest  CS Friendly  CS Ignore  CS Protect  \n",
       "Ahmad al-Mansur         4            4            6          4           6  \n",
       "Alexander               3            4            5          4           8  \n",
       "Ashurbanipal            5            7            4          4           3  \n",
       "Askia                   7            8            5          5           4  \n",
       "Attila                  8            7            4          5           3  \n",
       "\n",
       "[5 rows x 63 columns]"
      ]
     },
     "execution_count": 2,
     "metadata": {},
     "output_type": "execute_result"
    }
   ],
   "source": [
    "df = pd.read_csv('civdata.csv', index_col=0).T # Part 1 data\n",
    "print(df.shape)\n",
    "df.head()"
   ]
  },
  {
   "cell_type": "code",
   "execution_count": 3,
   "metadata": {
    "collapsed": false
   },
   "outputs": [
    {
     "name": "stdout",
     "output_type": "stream",
     "text": [
      "(43, 8)\n"
     ]
    },
    {
     "data": {
      "text/html": [
       "<div>\n",
       "<style scoped>\n",
       "    .dataframe tbody tr th:only-of-type {\n",
       "        vertical-align: middle;\n",
       "    }\n",
       "\n",
       "    .dataframe tbody tr th {\n",
       "        vertical-align: top;\n",
       "    }\n",
       "\n",
       "    .dataframe thead th {\n",
       "        text-align: right;\n",
       "    }\n",
       "</style>\n",
       "<table border=\"1\" class=\"dataframe\">\n",
       "  <thead>\n",
       "    <tr style=\"text-align: right;\">\n",
       "      <th></th>\n",
       "      <th>Born</th>\n",
       "      <th>Death</th>\n",
       "      <th>Age</th>\n",
       "      <th>Era</th>\n",
       "      <th>Gender</th>\n",
       "      <th>Civilization</th>\n",
       "      <th>Continent</th>\n",
       "      <th>Region</th>\n",
       "    </tr>\n",
       "    <tr>\n",
       "      <th>Leader</th>\n",
       "      <th></th>\n",
       "      <th></th>\n",
       "      <th></th>\n",
       "      <th></th>\n",
       "      <th></th>\n",
       "      <th></th>\n",
       "      <th></th>\n",
       "      <th></th>\n",
       "    </tr>\n",
       "  </thead>\n",
       "  <tbody>\n",
       "    <tr>\n",
       "      <th>Ahmad al-Mansur</th>\n",
       "      <td>1549.0</td>\n",
       "      <td>1603.0</td>\n",
       "      <td>54.0</td>\n",
       "      <td>Renaissance</td>\n",
       "      <td>Male</td>\n",
       "      <td>Morrocan</td>\n",
       "      <td>Africa</td>\n",
       "      <td>Africa</td>\n",
       "    </tr>\n",
       "    <tr>\n",
       "      <th>Alexander</th>\n",
       "      <td>-356.0</td>\n",
       "      <td>-323.0</td>\n",
       "      <td>33.0</td>\n",
       "      <td>Classical</td>\n",
       "      <td>Male</td>\n",
       "      <td>Greek</td>\n",
       "      <td>Europe</td>\n",
       "      <td>Europe</td>\n",
       "    </tr>\n",
       "    <tr>\n",
       "      <th>Ashurbanipal</th>\n",
       "      <td>-685.0</td>\n",
       "      <td>-627.0</td>\n",
       "      <td>58.0</td>\n",
       "      <td>Ancient</td>\n",
       "      <td>Male</td>\n",
       "      <td>Assyrian</td>\n",
       "      <td>Asia</td>\n",
       "      <td>Middle East</td>\n",
       "    </tr>\n",
       "    <tr>\n",
       "      <th>Askia</th>\n",
       "      <td>1442.0</td>\n",
       "      <td>1538.0</td>\n",
       "      <td>96.0</td>\n",
       "      <td>Renaissance</td>\n",
       "      <td>Male</td>\n",
       "      <td>Songhai</td>\n",
       "      <td>Africa</td>\n",
       "      <td>Africa</td>\n",
       "    </tr>\n",
       "    <tr>\n",
       "      <th>Attila</th>\n",
       "      <td>406.0</td>\n",
       "      <td>453.0</td>\n",
       "      <td>47.0</td>\n",
       "      <td>Classical</td>\n",
       "      <td>Male</td>\n",
       "      <td>Hunnic</td>\n",
       "      <td>Asia</td>\n",
       "      <td>Asia</td>\n",
       "    </tr>\n",
       "  </tbody>\n",
       "</table>\n",
       "</div>"
      ],
      "text/plain": [
       "                   Born   Death   Age          Era Gender Civilization  \\\n",
       "Leader                                                                   \n",
       "Ahmad al-Mansur  1549.0  1603.0  54.0  Renaissance   Male     Morrocan   \n",
       "Alexander        -356.0  -323.0  33.0    Classical   Male        Greek   \n",
       "Ashurbanipal     -685.0  -627.0  58.0      Ancient   Male     Assyrian   \n",
       "Askia            1442.0  1538.0  96.0  Renaissance   Male      Songhai   \n",
       "Attila            406.0   453.0  47.0    Classical   Male       Hunnic   \n",
       "\n",
       "                Continent       Region  \n",
       "Leader                                  \n",
       "Ahmad al-Mansur    Africa       Africa  \n",
       "Alexander          Europe       Europe  \n",
       "Ashurbanipal         Asia  Middle East  \n",
       "Askia              Africa       Africa  \n",
       "Attila               Asia         Asia  "
      ]
     },
     "execution_count": 3,
     "metadata": {},
     "output_type": "execute_result"
    }
   ],
   "source": [
    "''' Convert encoding to UTF-8 and drop empty rows/columns if necessary '''\n",
    "df_meta = pd.read_csv('civmetadata.csv', index_col=0)\n",
    "print(df_meta.shape)\n",
    "df_meta.head()"
   ]
  },
  {
   "cell_type": "markdown",
   "metadata": {},
   "source": [
    "## 2. Examine raw distributions by era, gender, and region"
   ]
  },
  {
   "cell_type": "code",
   "execution_count": 4,
   "metadata": {
    "collapsed": false
   },
   "outputs": [
    {
     "data": {
      "image/png": "[encoded data removed]",
      "text/plain": [
       "<matplotlib.figure.Figure at 0x115bd6d8>"
      ]
     },
     "metadata": {},
     "output_type": "display_data"
    }
   ],
   "source": [
    "%matplotlib inline\n",
    "''' Counts by region and gender '''\n",
    "sns.countplot(x='Region', hue='Gender', data=df_meta)\n",
    "plt.legend(loc='upper right')\n",
    "plt.tight_layout()\n",
    "plt.savefig('figures/region_gender_counts.png', format='png', dpi=90)"
   ]
  },
  {
   "cell_type": "code",
   "execution_count": 5,
   "metadata": {
    "collapsed": false
   },
   "outputs": [
    {
     "data": {
      "image/png": "[encoded data removed]",
      "text/plain": [
       "<matplotlib.figure.Figure at 0x12c9a278>"
      ]
     },
     "metadata": {},
     "output_type": "display_data"
    }
   ],
   "source": [
    "sns.stripplot(x='Born', y='Region', data=df_meta)\n",
    "plt.tight_layout()\n",
    "plt.savefig('figures/region_year_counts.png', format='png', dpi=90)"
   ]
  },
  {
   "cell_type": "code",
   "execution_count": 6,
   "metadata": {
    "collapsed": false
   },
   "outputs": [
    {
     "name": "stdout",
     "output_type": "stream",
     "text": [
      "['Africa', 'Americas', 'Asia', 'Europe', 'Middle East', 'Oceania']\n"
     ]
    }
   ],
   "source": [
    "print(sorted(df_meta['Region'].unique()))"
   ]
  },
  {
   "cell_type": "code",
   "execution_count": 7,
   "metadata": {
    "collapsed": false
   },
   "outputs": [
    {
     "data": {
      "image/png": "[encoded data removed]",
      "text/plain": [
       "<matplotlib.figure.Figure at 0x130310f0>"
      ]
     },
     "metadata": {},
     "output_type": "display_data"
    }
   ],
   "source": [
    "regions = sorted(df_meta['Region'].unique())\n",
    "df_meta_sorted = df_meta.sort_values('Born')\n",
    "df_meta_sorted['Born_Rank'] = range(df_meta.shape[0])\n",
    "\n",
    "fig, ax = plt.subplots(1,1,figsize=(14,10))\n",
    "for i,region in enumerate(regions):\n",
    "    df_region = df_meta_sorted[df_meta_sorted['Region'] == region]\n",
    "    ax.barh(bottom=df_region['Born_Rank'].values, \n",
    "             width=df_region['Death'].values - df_region['Born'].values,\n",
    "             left=df_region['Born'])"
   ]
  },
  {
   "cell_type": "markdown",
   "metadata": {},
   "source": [
    "## 3. PCA Projections with metadata"
   ]
  },
  {
   "cell_type": "markdown",
   "metadata": {},
   "source": [
    "### Repeating PCA same as in Part 1"
   ]
  },
  {
   "cell_type": "code",
   "execution_count": 8,
   "metadata": {
    "collapsed": true
   },
   "outputs": [],
   "source": [
    "''' Center values such that each feature has mean 0\n",
    "    Not scaling for variance since all values already bounded 1-12 '''\n",
    "X = df.values\n",
    "means = X.mean(axis=0)\n",
    "X_cent = X - means[np.newaxis,:]\n",
    "df_cent = pd.DataFrame(index=df.index, columns=df.columns, data=X_cent)\n",
    "\n",
    "pca = sklearn.decomposition.PCA(n_components=np.min(X_cent.shape))\n",
    "pca.fit(X_cent)\n",
    "top2pcs = pca.transform(X_cent)[:,:2] # coordinates of leaders in top 2 PC space\n",
    "top2var = pca.explained_variance_ratio_[:2] # variance explained by top 2 PCs"
   ]
  },
  {
   "cell_type": "code",
   "execution_count": 29,
   "metadata": {
    "collapsed": true
   },
   "outputs": [],
   "source": [
    "''' Define a function to create an attributed-color PCA plot '''\n",
    "def pca_with_metadata(attribute, ax, value_order=None):\n",
    "    df_pca = pd.DataFrame(index=df.index, columns=['X','Y'], data=top2pcs)\n",
    "    value_order = value_order if value_order else sorted(df_meta.loc[:,attribute].unique())\n",
    "    for unique_value in value_order:\n",
    "        df_cat = df_pca[df_meta[attribute] == unique_value]\n",
    "        ax.scatter(df_cat['X'], df_cat['Y'], label=unique_value)\n",
    "    ax.set_xlabel('PC1 (' + str(round(100*top2var[0],1)) + '%)')\n",
    "    ax.set_ylabel('PC2 (' + str(round(100*top2var[1],1)) + '%)')\n",
    "    ax.axvline(x=0, ymin=np.min(top2pcs[:,1]), ymax=np.max(top2pcs[:,1]), color='lightgray', ls='--')\n",
    "    ax.axhline(y=0, xmin=np.min(top2pcs[:,0]), xmax=np.max(top2pcs[:,0]), color='lightgray', ls='--')\n",
    "    ax.legend()\n",
    "    plt.tight_layout()"
   ]
  },
  {
   "cell_type": "code",
   "execution_count": 35,
   "metadata": {
    "collapsed": false
   },
   "outputs": [
    {
     "data": {
      "image/png": "[encoded data removed]",
      "text/plain": [
       "<matplotlib.figure.Figure at 0x1609e9b0>"
      ]
     },
     "metadata": {},
     "output_type": "display_data"
    }
   ],
   "source": [
    "fig, ax = plt.subplots(1,1,figsize=(4,4))\n",
    "pca_with_metadata('Gender', ax, ['Male','Female'])\n",
    "plt.savefig('figures/pca_biplot_gender.png', format='png', dpi=90)"
   ]
  },
  {
   "cell_type": "code",
   "execution_count": 43,
   "metadata": {
    "collapsed": false
   },
   "outputs": [
    {
     "data": {
      "image/png": "[encoded data removed]",
      "text/plain": [
       "<matplotlib.figure.Figure at 0x176b82e8>"
      ]
     },
     "metadata": {},
     "output_type": "display_data"
    }
   ],
   "source": [
    "fig, axs = plt.subplots(1,2,figsize=(8,4))\n",
    "pca_with_metadata('Era', axs[0], ['Ancient', 'Classical' ,'Medieval', 'Renaissance', 'Modern'])\n",
    "pca_with_metadata('Region', axs[1])\n",
    "\n",
    "for ax in axs: # move legends to bottom\n",
    "    box = ax.get_position()\n",
    "    ax.set_position([box.x0, box.y0 + box.height * 0.1, box.width, box.height * 0.9])\n",
    "    ax.legend(loc='upper center', bbox_to_anchor=(0.5, -0.15), ncol=3)\n",
    "plt.tight_layout()\n",
    "plt.savefig('figures/pca_biplot_era_region.png', format='png', dpi=90, bbox_inches='tight')"
   ]
  },
  {
   "cell_type": "markdown",
   "metadata": {},
   "source": [
    "## 4. Association studies of leader biases vs. leader demographics"
   ]
  },
  {
   "cell_type": "code",
   "execution_count": 49,
   "metadata": {
    "collapsed": true
   },
   "outputs": [],
   "source": [
    "ignore_biases = ['Trade Origin', 'Trade Destination', 'Sea Trade', 'Land Trade', 'Airlift', 'Archaeology']"
   ]
  },
  {
   "cell_type": "markdown",
   "metadata": {},
   "source": [
    "### 4.1 Leader biases vs. gender: Mann-Whitney U-test"
   ]
  },
  {
   "cell_type": "code",
   "execution_count": 45,
   "metadata": {
    "collapsed": false
   },
   "outputs": [
    {
     "name": "stdout",
     "output_type": "stream",
     "text": [
      "Male Leaders: 34\n",
      "Female Leaders: 9\n"
     ]
    }
   ],
   "source": [
    "male_leaders = (df_meta[df_meta['Gender'] == 'Male']).index\n",
    "female_leaders = (df_meta[df_meta['Gender'] == 'Female']).index\n",
    "print 'Male Leaders:', len(male_leaders)\n",
    "print 'Female Leaders:', len(female_leaders)"
   ]
  },
  {
   "cell_type": "code",
   "execution_count": 52,
   "metadata": {
    "collapsed": false
   },
   "outputs": [],
   "source": [
    "biases = filter(lambda x: not x in ignore_biases, df.columns)\n",
    "df_mwtest = pd.DataFrame(index=biases, columns=['U', 'p', 'log10(p)'])\n",
    "for bias in biases:\n",
    "    male_values = df.loc[male_leaders, bias].values\n",
    "    female_values = df.loc[female_leaders, bias].values\n",
    "    U, pval = scipy.stats.mannwhitneyu(male_values, female_values)\n",
    "    df_mwtest.at[bias, 'U'] = U\n",
    "    df_mwtest.at[bias, 'p'] = pval\n",
    "    df_mwtest.at[bias, 'log10(p)'] = np.log10(pval)"
   ]
  },
  {
   "cell_type": "code",
   "execution_count": 58,
   "metadata": {
    "collapsed": false,
    "scrolled": true
   },
   "outputs": [
    {
     "data": {
      "image/png": "[encoded data removed]",
      "text/plain": [
       "<matplotlib.figure.Figure at 0x1687deb8>"
      ]
     },
     "metadata": {},
     "output_type": "display_data"
    }
   ],
   "source": [
    "threshold = 0.05 / df_mwtest.shape[0]\n",
    "log_pvals = df_mwtest.loc[:,'log10(p)'].values.astype(float)\n",
    "plt.hist(log_pvals, bins=np.arange(-5,0.25,0.25))\n",
    "plt.axvline(x=np.log10(threshold), c='k', ls='--')\n",
    "plt.xlabel('log10(p-value)')\n",
    "plt.ylabel('# features')\n",
    "plt.text(np.log10(threshold)+0.1, 12, 'p=0.00088')\n",
    "plt.title('Leader Biases vs. Gender: Mann-Whitney U-test')\n",
    "plt.savefig('figures/mann-whitney_pvalues.png', format='png', dpi=90)"
   ]
  },
  {
   "cell_type": "code",
   "execution_count": null,
   "metadata": {
    "collapsed": true
   },
   "outputs": [],
   "source": []
  }
 ],
 "metadata": {
  "kernelspec": {
   "display_name": "Python 2",
   "language": "python",
   "name": "python2"
  },
  "language_info": {
   "codemirror_mode": {
    "name": "ipython",
    "version": 2
   },
   "file_extension": ".py",
   "mimetype": "text/x-python",
   "name": "python",
   "nbconvert_exporter": "python",
   "pygments_lexer": "ipython2",
   "version": "2.7.12"
  }
 },
 "nbformat": 4,
 "nbformat_minor": 2
}
