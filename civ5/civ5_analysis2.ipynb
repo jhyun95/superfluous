{
 "cells": [
  {
   "cell_type": "code",
   "execution_count": 1,
   "metadata": {
    "collapsed": true
   },
   "outputs": [],
   "source": [
    "import numpy as np\n",
    "import scipy.stats\n",
    "import sklearn.decomposition\n",
    "import pandas as pd\n",
    "import matplotlib as mpl\n",
    "import matplotlib.pyplot as plt\n",
    "import seaborn as sns\n",
    "mpl.rcParams['font.family'] = 'Arial'\n",
    "plt.rcParams['svg.fonttype'] = 'none' # export SVG text as text, not paths\n",
    "plt.rcParams['axes.facecolor'] = 'w' # white axes background\n",
    "plt.rcParams['savefig.facecolor'] = 'w' # white main background, for blog posts"
   ]
  },
  {
   "cell_type": "markdown",
   "metadata": {},
   "source": [
    "# Part 2: Leader Bias Distributions by Demographic Group"
   ]
  },
  {
   "cell_type": "markdown",
   "metadata": {},
   "source": [
    "## 0. Loading Civ5 data as in Part 1, and new Civ5 metadata"
   ]
  },
  {
   "cell_type": "code",
   "execution_count": 2,
   "metadata": {
    "collapsed": false
   },
   "outputs": [
    {
     "name": "stdout",
     "output_type": "stream",
     "text": [
      "(43, 63)\n"
     ]
    },
    {
     "data": {
      "text/html": [
       "<div>\n",
       "<style scoped>\n",
       "    .dataframe tbody tr th:only-of-type {\n",
       "        vertical-align: middle;\n",
       "    }\n",
       "\n",
       "    .dataframe tbody tr th {\n",
       "        vertical-align: top;\n",
       "    }\n",
       "\n",
       "    .dataframe thead th {\n",
       "        text-align: right;\n",
       "    }\n",
       "</style>\n",
       "<table border=\"1\" class=\"dataframe\">\n",
       "  <thead>\n",
       "    <tr style=\"text-align: right;\">\n",
       "      <th></th>\n",
       "      <th>Boldness</th>\n",
       "      <th>Chattiness</th>\n",
       "      <th>Denounce Willingness</th>\n",
       "      <th>Diplomatic Balance</th>\n",
       "      <th>Friendship Willingness</th>\n",
       "      <th>Forgiveness</th>\n",
       "      <th>Loyalty</th>\n",
       "      <th>Meanness</th>\n",
       "      <th>City-State Competitiveness</th>\n",
       "      <th>Neediness</th>\n",
       "      <th>...</th>\n",
       "      <th>Friendly</th>\n",
       "      <th>Guarded</th>\n",
       "      <th>Hostile</th>\n",
       "      <th>Neutrality</th>\n",
       "      <th>War</th>\n",
       "      <th>CS Bully</th>\n",
       "      <th>CS Conquest</th>\n",
       "      <th>CS Friendly</th>\n",
       "      <th>CS Ignore</th>\n",
       "      <th>CS Protect</th>\n",
       "    </tr>\n",
       "  </thead>\n",
       "  <tbody>\n",
       "    <tr>\n",
       "      <th>Ahmad al-Mansur</th>\n",
       "      <td>4</td>\n",
       "      <td>6</td>\n",
       "      <td>5</td>\n",
       "      <td>5</td>\n",
       "      <td>6</td>\n",
       "      <td>5</td>\n",
       "      <td>6</td>\n",
       "      <td>5</td>\n",
       "      <td>5</td>\n",
       "      <td>6</td>\n",
       "      <td>...</td>\n",
       "      <td>8</td>\n",
       "      <td>6</td>\n",
       "      <td>4</td>\n",
       "      <td>5</td>\n",
       "      <td>5</td>\n",
       "      <td>4</td>\n",
       "      <td>4</td>\n",
       "      <td>6</td>\n",
       "      <td>4</td>\n",
       "      <td>6</td>\n",
       "    </tr>\n",
       "    <tr>\n",
       "      <th>Alexander</th>\n",
       "      <td>8</td>\n",
       "      <td>7</td>\n",
       "      <td>7</td>\n",
       "      <td>3</td>\n",
       "      <td>4</td>\n",
       "      <td>5</td>\n",
       "      <td>4</td>\n",
       "      <td>7</td>\n",
       "      <td>3</td>\n",
       "      <td>4</td>\n",
       "      <td>...</td>\n",
       "      <td>5</td>\n",
       "      <td>5</td>\n",
       "      <td>7</td>\n",
       "      <td>4</td>\n",
       "      <td>6</td>\n",
       "      <td>3</td>\n",
       "      <td>4</td>\n",
       "      <td>5</td>\n",
       "      <td>4</td>\n",
       "      <td>8</td>\n",
       "    </tr>\n",
       "    <tr>\n",
       "      <th>Ashurbanipal</th>\n",
       "      <td>6</td>\n",
       "      <td>3</td>\n",
       "      <td>6</td>\n",
       "      <td>5</td>\n",
       "      <td>5</td>\n",
       "      <td>4</td>\n",
       "      <td>5</td>\n",
       "      <td>5</td>\n",
       "      <td>3</td>\n",
       "      <td>4</td>\n",
       "      <td>...</td>\n",
       "      <td>5</td>\n",
       "      <td>5</td>\n",
       "      <td>6</td>\n",
       "      <td>5</td>\n",
       "      <td>8</td>\n",
       "      <td>5</td>\n",
       "      <td>7</td>\n",
       "      <td>4</td>\n",
       "      <td>4</td>\n",
       "      <td>3</td>\n",
       "    </tr>\n",
       "    <tr>\n",
       "      <th>Askia</th>\n",
       "      <td>7</td>\n",
       "      <td>5</td>\n",
       "      <td>5</td>\n",
       "      <td>6</td>\n",
       "      <td>6</td>\n",
       "      <td>4</td>\n",
       "      <td>6</td>\n",
       "      <td>6</td>\n",
       "      <td>4</td>\n",
       "      <td>4</td>\n",
       "      <td>...</td>\n",
       "      <td>6</td>\n",
       "      <td>6</td>\n",
       "      <td>6</td>\n",
       "      <td>5</td>\n",
       "      <td>7</td>\n",
       "      <td>7</td>\n",
       "      <td>8</td>\n",
       "      <td>5</td>\n",
       "      <td>5</td>\n",
       "      <td>4</td>\n",
       "    </tr>\n",
       "    <tr>\n",
       "      <th>Attila</th>\n",
       "      <td>8</td>\n",
       "      <td>5</td>\n",
       "      <td>6</td>\n",
       "      <td>4</td>\n",
       "      <td>3</td>\n",
       "      <td>4</td>\n",
       "      <td>4</td>\n",
       "      <td>8</td>\n",
       "      <td>3</td>\n",
       "      <td>3</td>\n",
       "      <td>...</td>\n",
       "      <td>3</td>\n",
       "      <td>3</td>\n",
       "      <td>8</td>\n",
       "      <td>5</td>\n",
       "      <td>8</td>\n",
       "      <td>8</td>\n",
       "      <td>7</td>\n",
       "      <td>4</td>\n",
       "      <td>5</td>\n",
       "      <td>3</td>\n",
       "    </tr>\n",
       "  </tbody>\n",
       "</table>\n",
       "<p>5 rows × 63 columns</p>\n",
       "</div>"
      ],
      "text/plain": [
       "                 Boldness  Chattiness  Denounce Willingness  \\\n",
       "Ahmad al-Mansur         4           6                     5   \n",
       "Alexander               8           7                     7   \n",
       "Ashurbanipal            6           3                     6   \n",
       "Askia                   7           5                     5   \n",
       "Attila                  8           5                     6   \n",
       "\n",
       "                 Diplomatic Balance  Friendship Willingness  Forgiveness  \\\n",
       "Ahmad al-Mansur                   5                       6            5   \n",
       "Alexander                         3                       4            5   \n",
       "Ashurbanipal                      5                       5            4   \n",
       "Askia                             6                       6            4   \n",
       "Attila                            4                       3            4   \n",
       "\n",
       "                 Loyalty  Meanness  City-State Competitiveness  Neediness  \\\n",
       "Ahmad al-Mansur        6         5                           5          6   \n",
       "Alexander              4         7                           3          4   \n",
       "Ashurbanipal           5         5                           3          4   \n",
       "Askia                  6         6                           4          4   \n",
       "Attila                 4         8                           3          3   \n",
       "\n",
       "                    ...      Friendly  Guarded  Hostile  Neutrality  War  \\\n",
       "Ahmad al-Mansur     ...             8        6        4           5    5   \n",
       "Alexander           ...             5        5        7           4    6   \n",
       "Ashurbanipal        ...             5        5        6           5    8   \n",
       "Askia               ...             6        6        6           5    7   \n",
       "Attila              ...             3        3        8           5    8   \n",
       "\n",
       "                 CS Bully  CS Conquest  CS Friendly  CS Ignore  CS Protect  \n",
       "Ahmad al-Mansur         4            4            6          4           6  \n",
       "Alexander               3            4            5          4           8  \n",
       "Ashurbanipal            5            7            4          4           3  \n",
       "Askia                   7            8            5          5           4  \n",
       "Attila                  8            7            4          5           3  \n",
       "\n",
       "[5 rows x 63 columns]"
      ]
     },
     "execution_count": 2,
     "metadata": {},
     "output_type": "execute_result"
    }
   ],
   "source": [
    "df = pd.read_csv('civdata.csv', index_col=0).T # Part 1 data\n",
    "print(df.shape)\n",
    "df.head()"
   ]
  },
  {
   "cell_type": "code",
   "execution_count": 3,
   "metadata": {
    "collapsed": false
   },
   "outputs": [
    {
     "name": "stdout",
     "output_type": "stream",
     "text": [
      "(43, 8)\n"
     ]
    },
    {
     "data": {
      "text/html": [
       "<div>\n",
       "<style scoped>\n",
       "    .dataframe tbody tr th:only-of-type {\n",
       "        vertical-align: middle;\n",
       "    }\n",
       "\n",
       "    .dataframe tbody tr th {\n",
       "        vertical-align: top;\n",
       "    }\n",
       "\n",
       "    .dataframe thead th {\n",
       "        text-align: right;\n",
       "    }\n",
       "</style>\n",
       "<table border=\"1\" class=\"dataframe\">\n",
       "  <thead>\n",
       "    <tr style=\"text-align: right;\">\n",
       "      <th></th>\n",
       "      <th>Born</th>\n",
       "      <th>Death</th>\n",
       "      <th>Age</th>\n",
       "      <th>Era</th>\n",
       "      <th>Gender</th>\n",
       "      <th>Civilization</th>\n",
       "      <th>Continent</th>\n",
       "      <th>Region</th>\n",
       "    </tr>\n",
       "    <tr>\n",
       "      <th>Leader</th>\n",
       "      <th></th>\n",
       "      <th></th>\n",
       "      <th></th>\n",
       "      <th></th>\n",
       "      <th></th>\n",
       "      <th></th>\n",
       "      <th></th>\n",
       "      <th></th>\n",
       "    </tr>\n",
       "  </thead>\n",
       "  <tbody>\n",
       "    <tr>\n",
       "      <th>Ahmad al-Mansur</th>\n",
       "      <td>1549.0</td>\n",
       "      <td>1603.0</td>\n",
       "      <td>54.0</td>\n",
       "      <td>Renaissance</td>\n",
       "      <td>Male</td>\n",
       "      <td>Morrocan</td>\n",
       "      <td>Africa</td>\n",
       "      <td>Africa</td>\n",
       "    </tr>\n",
       "    <tr>\n",
       "      <th>Alexander</th>\n",
       "      <td>-356.0</td>\n",
       "      <td>-323.0</td>\n",
       "      <td>33.0</td>\n",
       "      <td>Classical</td>\n",
       "      <td>Male</td>\n",
       "      <td>Greek</td>\n",
       "      <td>Europe</td>\n",
       "      <td>Europe</td>\n",
       "    </tr>\n",
       "    <tr>\n",
       "      <th>Ashurbanipal</th>\n",
       "      <td>-685.0</td>\n",
       "      <td>-627.0</td>\n",
       "      <td>58.0</td>\n",
       "      <td>Ancient</td>\n",
       "      <td>Male</td>\n",
       "      <td>Assyrian</td>\n",
       "      <td>Asia</td>\n",
       "      <td>Middle East</td>\n",
       "    </tr>\n",
       "    <tr>\n",
       "      <th>Askia</th>\n",
       "      <td>1442.0</td>\n",
       "      <td>1538.0</td>\n",
       "      <td>96.0</td>\n",
       "      <td>Renaissance</td>\n",
       "      <td>Male</td>\n",
       "      <td>Songhai</td>\n",
       "      <td>Africa</td>\n",
       "      <td>Africa</td>\n",
       "    </tr>\n",
       "    <tr>\n",
       "      <th>Attila</th>\n",
       "      <td>406.0</td>\n",
       "      <td>453.0</td>\n",
       "      <td>47.0</td>\n",
       "      <td>Classical</td>\n",
       "      <td>Male</td>\n",
       "      <td>Hunnic</td>\n",
       "      <td>Asia</td>\n",
       "      <td>Asia</td>\n",
       "    </tr>\n",
       "  </tbody>\n",
       "</table>\n",
       "</div>"
      ],
      "text/plain": [
       "                   Born   Death   Age          Era Gender Civilization  \\\n",
       "Leader                                                                   \n",
       "Ahmad al-Mansur  1549.0  1603.0  54.0  Renaissance   Male     Morrocan   \n",
       "Alexander        -356.0  -323.0  33.0    Classical   Male        Greek   \n",
       "Ashurbanipal     -685.0  -627.0  58.0      Ancient   Male     Assyrian   \n",
       "Askia            1442.0  1538.0  96.0  Renaissance   Male      Songhai   \n",
       "Attila            406.0   453.0  47.0    Classical   Male       Hunnic   \n",
       "\n",
       "                Continent       Region  \n",
       "Leader                                  \n",
       "Ahmad al-Mansur    Africa       Africa  \n",
       "Alexander          Europe       Europe  \n",
       "Ashurbanipal         Asia  Middle East  \n",
       "Askia              Africa       Africa  \n",
       "Attila               Asia         Asia  "
      ]
     },
     "execution_count": 3,
     "metadata": {},
     "output_type": "execute_result"
    }
   ],
   "source": [
    "''' Convert encoding to UTF-8 and drop empty rows/columns if necessary '''\n",
    "df_meta = pd.read_csv('civmetadata.csv', index_col=0)\n",
    "print(df_meta.shape)\n",
    "df_meta.head()"
   ]
  },
  {
   "cell_type": "markdown",
   "metadata": {},
   "source": [
    "## 1. Examine raw distributions by era, gender, and region"
   ]
  },
  {
   "cell_type": "code",
   "execution_count": 4,
   "metadata": {
    "collapsed": false
   },
   "outputs": [
    {
     "data": {
      "image/png": "[encoded data removed]",
      "text/plain": [
       "<matplotlib.figure.Figure at 0x1160a780>"
      ]
     },
     "metadata": {},
     "output_type": "display_data"
    }
   ],
   "source": [
    "%matplotlib inline\n",
    "''' Counts by region and gender '''\n",
    "sns.countplot(x='Region', hue='Gender', data=df_meta)\n",
    "plt.legend(loc='upper right')\n",
    "plt.tight_layout()\n",
    "plt.savefig('figures/region_gender_counts.png', format='png', dpi=90)"
   ]
  },
  {
   "cell_type": "code",
   "execution_count": 5,
   "metadata": {
    "collapsed": false
   },
   "outputs": [
    {
     "data": {
      "image/png": "[encoded data removed]",
      "text/plain": [
       "<matplotlib.figure.Figure at 0x1160ac18>"
      ]
     },
     "metadata": {},
     "output_type": "display_data"
    }
   ],
   "source": [
    "''' Distribution by region and leader date of birth '''\n",
    "sns.stripplot(x='Born', y='Region', data=df_meta)\n",
    "plt.tight_layout()\n",
    "plt.savefig('figures/region_year_counts.png', format='png', dpi=90)"
   ]
  },
  {
   "cell_type": "code",
   "execution_count": 6,
   "metadata": {
    "collapsed": false
   },
   "outputs": [
    {
     "data": {
      "image/png": "[encoded data removed]",
      "text/plain": [
       "<matplotlib.figure.Figure at 0x11bd9588>"
      ]
     },
     "metadata": {},
     "output_type": "display_data"
    }
   ],
   "source": [
    "''' Distribution by region and leader lifetime (unused in post)'''\n",
    "regions = sorted(df_meta['Region'].unique())\n",
    "df_meta_sorted = df_meta.sort_values('Born')\n",
    "df_meta_sorted['Born_Rank'] = range(df_meta.shape[0])\n",
    "\n",
    "fig, ax = plt.subplots(1,1,figsize=(14,10))\n",
    "for i,region in enumerate(regions):\n",
    "    df_region = df_meta_sorted[df_meta_sorted['Region'] == region]\n",
    "    ax.barh(bottom=df_region['Born_Rank'].values, \n",
    "             width=df_region['Death'].values - df_region['Born'].values,\n",
    "             left=df_region['Born'])"
   ]
  },
  {
   "cell_type": "markdown",
   "metadata": {},
   "source": [
    "## 2. PCA biplots with metadata"
   ]
  },
  {
   "cell_type": "markdown",
   "metadata": {},
   "source": [
    "### 2.1 Repeating PCA same as in Part 1"
   ]
  },
  {
   "cell_type": "code",
   "execution_count": 7,
   "metadata": {
    "collapsed": true
   },
   "outputs": [],
   "source": [
    "''' Center values such that each feature has mean 0\n",
    "    Not scaling for variance since all values already bounded 1-12 '''\n",
    "X = df.values\n",
    "means = X.mean(axis=0)\n",
    "X_cent = X - means[np.newaxis,:]\n",
    "df_cent = pd.DataFrame(index=df.index, columns=df.columns, data=X_cent)\n",
    "\n",
    "pca = sklearn.decomposition.PCA(n_components=np.min(X_cent.shape))\n",
    "pca.fit(X_cent)\n",
    "top2pcs = pca.transform(X_cent)[:,:2] # coordinates of leaders in top 2 PC space\n",
    "top2var = pca.explained_variance_ratio_[:2] # variance explained by top 2 PCs"
   ]
  },
  {
   "cell_type": "markdown",
   "metadata": {},
   "source": [
    "### 2.2 Plotting the same biplot from Part 1, but color-coded with demographic data"
   ]
  },
  {
   "cell_type": "code",
   "execution_count": 8,
   "metadata": {
    "collapsed": true
   },
   "outputs": [],
   "source": [
    "''' Define a function to create an attributed-color PCA plot '''\n",
    "def pca_with_metadata(attribute, ax, value_order=None):\n",
    "    df_pca = pd.DataFrame(index=df.index, columns=['X','Y'], data=top2pcs)\n",
    "    value_order = value_order if value_order else sorted(df_meta.loc[:,attribute].unique())\n",
    "    for unique_value in value_order:\n",
    "        df_cat = df_pca[df_meta[attribute] == unique_value]\n",
    "        ax.scatter(df_cat['X'], df_cat['Y'], label=unique_value)\n",
    "    ax.set_xlabel('PC1 (' + str(round(100*top2var[0],1)) + '%)')\n",
    "    ax.set_ylabel('PC2 (' + str(round(100*top2var[1],1)) + '%)')\n",
    "    ax.axvline(x=0, ymin=np.min(top2pcs[:,1]), ymax=np.max(top2pcs[:,1]), color='lightgray', ls='--')\n",
    "    ax.axhline(y=0, xmin=np.min(top2pcs[:,0]), xmax=np.max(top2pcs[:,0]), color='lightgray', ls='--')\n",
    "    ax.legend()\n",
    "    plt.tight_layout()"
   ]
  },
  {
   "cell_type": "code",
   "execution_count": 9,
   "metadata": {
    "collapsed": false
   },
   "outputs": [
    {
     "data": {
      "image/png": "[encoded data removed]",
      "text/plain": [
       "<matplotlib.figure.Figure at 0x11fbd0b8>"
      ]
     },
     "metadata": {},
     "output_type": "display_data"
    }
   ],
   "source": [
    "''' Gender annotated biplot '''\n",
    "fig, ax = plt.subplots(1,1,figsize=(4,4))\n",
    "pca_with_metadata('Gender', ax, ['Male','Female'])\n",
    "plt.savefig('figures/pca_biplot_gender.png', format='png', dpi=90)"
   ]
  },
  {
   "cell_type": "code",
   "execution_count": 10,
   "metadata": {
    "collapsed": false
   },
   "outputs": [
    {
     "data": {
      "image/png": "[encoded data removed]",
      "text/plain": [
       "<matplotlib.figure.Figure at 0x12364588>"
      ]
     },
     "metadata": {},
     "output_type": "display_data"
    }
   ],
   "source": [
    "''' Era and Region annotated biplots '''\n",
    "fig, axs = plt.subplots(1,2,figsize=(8,4))\n",
    "pca_with_metadata('Era', axs[0], ['Ancient', 'Classical' ,'Medieval', 'Renaissance', 'Modern'])\n",
    "pca_with_metadata('Region', axs[1])\n",
    "\n",
    "for ax in axs: # move legends to bottom\n",
    "    box = ax.get_position()\n",
    "    ax.set_position([box.x0, box.y0 + box.height * 0.1, box.width, box.height * 0.9])\n",
    "    ax.legend(loc='upper center', bbox_to_anchor=(0.5, -0.15), ncol=3)\n",
    "plt.tight_layout()\n",
    "plt.savefig('figures/pca_biplot_era_region.png', format='png', dpi=90, bbox_inches='tight')"
   ]
  },
  {
   "cell_type": "markdown",
   "metadata": {},
   "source": [
    "## 3. Association studies of leader biases vs. leader demographics"
   ]
  },
  {
   "cell_type": "code",
   "execution_count": 11,
   "metadata": {
    "collapsed": true
   },
   "outputs": [],
   "source": [
    "''' Ignore these biases that have no variability between leaders '''\n",
    "ignore_biases = ['Trade Origin', 'Trade Destination', 'Sea Trade', 'Land Trade', 'Airlift', 'Archaeology']"
   ]
  },
  {
   "cell_type": "markdown",
   "metadata": {},
   "source": [
    "### 3.1 Leader biases vs. gender: Mann-Whitney U-test"
   ]
  },
  {
   "cell_type": "code",
   "execution_count": 12,
   "metadata": {
    "collapsed": false
   },
   "outputs": [
    {
     "name": "stdout",
     "output_type": "stream",
     "text": [
      "Male Leaders: 34\n",
      "Female Leaders: 9\n"
     ]
    }
   ],
   "source": [
    "''' Constructing leader groups by gender '''\n",
    "male_leaders = (df_meta[df_meta['Gender'] == 'Male']).index\n",
    "female_leaders = (df_meta[df_meta['Gender'] == 'Female']).index\n",
    "print 'Male Leaders:', len(male_leaders)\n",
    "print 'Female Leaders:', len(female_leaders)"
   ]
  },
  {
   "cell_type": "code",
   "execution_count": 13,
   "metadata": {
    "collapsed": false
   },
   "outputs": [],
   "source": [
    "''' Applying Mann-Whitney U-tests '''\n",
    "biases = filter(lambda x: not x in ignore_biases, df.columns)\n",
    "df_mwtest = pd.DataFrame(index=biases, columns=['U', 'p', 'log10(p)'])\n",
    "for bias in biases:\n",
    "    male_values = df.loc[male_leaders, bias].values\n",
    "    female_values = df.loc[female_leaders, bias].values\n",
    "    U, pval = scipy.stats.mannwhitneyu(male_values, female_values)\n",
    "    df_mwtest.at[bias, 'U'] = U\n",
    "    df_mwtest.at[bias, 'p'] = pval\n",
    "    df_mwtest.at[bias, 'log10(p)'] = np.log10(pval)"
   ]
  },
  {
   "cell_type": "code",
   "execution_count": 14,
   "metadata": {
    "collapsed": false,
    "scrolled": true
   },
   "outputs": [
    {
     "data": {
      "image/png": "[encoded data removed]",
      "text/plain": [
       "<matplotlib.figure.Figure at 0x11cbfc88>"
      ]
     },
     "metadata": {},
     "output_type": "display_data"
    }
   ],
   "source": [
    "''' Plotting p-value distribution with Bonferroni-corrected significance threshold '''\n",
    "threshold = 0.05 / df_mwtest.shape[0]\n",
    "log_pvals = df_mwtest.loc[:,'log10(p)'].values.astype(float)\n",
    "plt.hist(log_pvals, bins=np.arange(-5,0.25,0.25))\n",
    "plt.axvline(x=np.log10(threshold), c='k', ls='--')\n",
    "plt.xlabel('log10(p-value)')\n",
    "plt.ylabel('# features')\n",
    "plt.text(np.log10(threshold)+0.1, 12, 'p=0.00088')\n",
    "plt.title('Leader Biases vs. Gender: Mann-Whitney U-test')\n",
    "plt.savefig('figures/bias_vs_gender_mann-whitney_pvalues.png', format='png', dpi=90)"
   ]
  },
  {
   "cell_type": "code",
   "execution_count": 15,
   "metadata": {
    "collapsed": false
   },
   "outputs": [
    {
     "data": {
      "text/html": [
       "<div>\n",
       "<style scoped>\n",
       "    .dataframe tbody tr th:only-of-type {\n",
       "        vertical-align: middle;\n",
       "    }\n",
       "\n",
       "    .dataframe tbody tr th {\n",
       "        vertical-align: top;\n",
       "    }\n",
       "\n",
       "    .dataframe thead th {\n",
       "        text-align: right;\n",
       "    }\n",
       "</style>\n",
       "<table border=\"1\" class=\"dataframe\">\n",
       "  <thead>\n",
       "    <tr style=\"text-align: right;\">\n",
       "      <th></th>\n",
       "      <th>U</th>\n",
       "      <th>p</th>\n",
       "      <th>log10(p)</th>\n",
       "    </tr>\n",
       "  </thead>\n",
       "  <tbody>\n",
       "    <tr>\n",
       "      <th>Chattiness</th>\n",
       "      <td>61</td>\n",
       "      <td>0.00252772</td>\n",
       "      <td>-2.59727</td>\n",
       "    </tr>\n",
       "    <tr>\n",
       "      <th>City-State Competitiveness</th>\n",
       "      <td>68</td>\n",
       "      <td>0.00491535</td>\n",
       "      <td>-2.30845</td>\n",
       "    </tr>\n",
       "    <tr>\n",
       "      <th>Deceptive</th>\n",
       "      <td>91.5</td>\n",
       "      <td>0.0318327</td>\n",
       "      <td>-1.49713</td>\n",
       "    </tr>\n",
       "    <tr>\n",
       "      <th>Denounce Willingness</th>\n",
       "      <td>97.5</td>\n",
       "      <td>0.0456952</td>\n",
       "      <td>-1.34013</td>\n",
       "    </tr>\n",
       "    <tr>\n",
       "      <th>Build Nuke</th>\n",
       "      <td>104.5</td>\n",
       "      <td>0.0646509</td>\n",
       "      <td>-1.18943</td>\n",
       "    </tr>\n",
       "  </tbody>\n",
       "</table>\n",
       "</div>"
      ],
      "text/plain": [
       "                                U           p log10(p)\n",
       "Chattiness                     61  0.00252772 -2.59727\n",
       "City-State Competitiveness     68  0.00491535 -2.30845\n",
       "Deceptive                    91.5   0.0318327 -1.49713\n",
       "Denounce Willingness         97.5   0.0456952 -1.34013\n",
       "Build Nuke                  104.5   0.0646509 -1.18943"
      ]
     },
     "execution_count": 15,
     "metadata": {},
     "output_type": "execute_result"
    }
   ],
   "source": [
    "df_mwtest.sort_values('log10(p)').head()"
   ]
  },
  {
   "cell_type": "code",
   "execution_count": 16,
   "metadata": {
    "collapsed": false
   },
   "outputs": [
    {
     "data": {
      "image/png": "[encoded data removed]",
      "text/plain": [
       "<matplotlib.figure.Figure at 0x11ead160>"
      ]
     },
     "metadata": {},
     "output_type": "display_data"
    }
   ],
   "source": [
    "''' Examining bias distributions by gender for top two (note: not statistically significant) '''\n",
    "fig, axs = plt.subplots(1, 2, figsize=(6,3))\n",
    "df_tmp = pd.concat([df.loc[:,'Chattiness'], df_meta.loc[:,'Gender']], axis=1)\n",
    "sns.countplot(x='Chattiness', hue='Gender', data=df_tmp, ax=axs[0])\n",
    "df_tmp = pd.concat([df.loc[:,'City-State Competitiveness'], df_meta.loc[:,'Gender']], axis=1)\n",
    "sns.countplot(x='City-State Competitiveness', hue='Gender', data=df_tmp, ax=axs[1])\n",
    "axs[0].get_legend().remove()\n",
    "plt.tight_layout()\n",
    "plt.savefig('figures/gender_top_bias_split.png', format='png', dpi=90)"
   ]
  },
  {
   "cell_type": "markdown",
   "metadata": {},
   "source": [
    "### 3.2 Leader biases vs. era: Kruskal-Wallis test"
   ]
  },
  {
   "cell_type": "code",
   "execution_count": 17,
   "metadata": {
    "collapsed": false
   },
   "outputs": [],
   "source": [
    "''' Applying Kruskal-Wallis test for era '''\n",
    "biases = filter(lambda x: not x in ignore_biases, df.columns)\n",
    "df_kruskal_era = pd.DataFrame(index=biases, columns=['H', 'p', 'log10(p)'])\n",
    "eras = ['Ancient', 'Classical', 'Medieval', 'Renaissance', 'Modern']\n",
    "era_values = []\n",
    "for bias in biases:\n",
    "    for era in eras:\n",
    "        era_values.append(df.loc[df_meta['Era'] == era, bias].values)\n",
    "    H, pval = scipy.stats.kruskal(*era_values)\n",
    "    df_kruskal_era.at[bias, 'H'] = H\n",
    "    df_kruskal_era.at[bias, 'p'] = pval\n",
    "    df_kruskal_era.at[bias, 'log10(p)'] = np.log10(pval)"
   ]
  },
  {
   "cell_type": "code",
   "execution_count": 18,
   "metadata": {
    "collapsed": false
   },
   "outputs": [
    {
     "data": {
      "text/html": [
       "<div>\n",
       "<style scoped>\n",
       "    .dataframe tbody tr th:only-of-type {\n",
       "        vertical-align: middle;\n",
       "    }\n",
       "\n",
       "    .dataframe tbody tr th {\n",
       "        vertical-align: top;\n",
       "    }\n",
       "\n",
       "    .dataframe thead th {\n",
       "        text-align: right;\n",
       "    }\n",
       "</style>\n",
       "<table border=\"1\" class=\"dataframe\">\n",
       "  <thead>\n",
       "    <tr style=\"text-align: right;\">\n",
       "      <th></th>\n",
       "      <th>H</th>\n",
       "      <th>p</th>\n",
       "      <th>log10(p)</th>\n",
       "    </tr>\n",
       "  </thead>\n",
       "  <tbody>\n",
       "    <tr>\n",
       "      <th>CS Ignore</th>\n",
       "      <td>386.608</td>\n",
       "      <td>2.05236e-05</td>\n",
       "      <td>-4.68775</td>\n",
       "    </tr>\n",
       "    <tr>\n",
       "      <th>CS Protect</th>\n",
       "      <td>391.49</td>\n",
       "      <td>2.36869e-05</td>\n",
       "      <td>-4.62549</td>\n",
       "    </tr>\n",
       "    <tr>\n",
       "      <th>Neutrality</th>\n",
       "      <td>352.865</td>\n",
       "      <td>3.93733e-05</td>\n",
       "      <td>-4.4048</td>\n",
       "    </tr>\n",
       "    <tr>\n",
       "      <th>Hostile</th>\n",
       "      <td>344.762</td>\n",
       "      <td>5.48856e-05</td>\n",
       "      <td>-4.26054</td>\n",
       "    </tr>\n",
       "    <tr>\n",
       "      <th>Friendly</th>\n",
       "      <td>332.146</td>\n",
       "      <td>6.25315e-05</td>\n",
       "      <td>-4.2039</td>\n",
       "    </tr>\n",
       "  </tbody>\n",
       "</table>\n",
       "</div>"
      ],
      "text/plain": [
       "                  H            p log10(p)\n",
       "CS Ignore   386.608  2.05236e-05 -4.68775\n",
       "CS Protect   391.49  2.36869e-05 -4.62549\n",
       "Neutrality  352.865  3.93733e-05  -4.4048\n",
       "Hostile     344.762  5.48856e-05 -4.26054\n",
       "Friendly    332.146  6.25315e-05  -4.2039"
      ]
     },
     "execution_count": 18,
     "metadata": {},
     "output_type": "execute_result"
    }
   ],
   "source": [
    "df_kruskal_era.sort_values('log10(p)').head()"
   ]
  },
  {
   "cell_type": "code",
   "execution_count": 19,
   "metadata": {
    "collapsed": false,
    "scrolled": true
   },
   "outputs": [
    {
     "data": {
      "text/html": [
       "<div>\n",
       "<style scoped>\n",
       "    .dataframe tbody tr th:only-of-type {\n",
       "        vertical-align: middle;\n",
       "    }\n",
       "\n",
       "    .dataframe tbody tr th {\n",
       "        vertical-align: top;\n",
       "    }\n",
       "\n",
       "    .dataframe thead th {\n",
       "        text-align: right;\n",
       "    }\n",
       "</style>\n",
       "<table border=\"1\" class=\"dataframe\">\n",
       "  <thead>\n",
       "    <tr style=\"text-align: right;\">\n",
       "      <th></th>\n",
       "      <th>H</th>\n",
       "      <th>p</th>\n",
       "      <th>log10(p)</th>\n",
       "    </tr>\n",
       "  </thead>\n",
       "  <tbody>\n",
       "    <tr>\n",
       "      <th>CS Ignore</th>\n",
       "      <td>386.608</td>\n",
       "      <td>2.05236e-05</td>\n",
       "      <td>-4.68775</td>\n",
       "    </tr>\n",
       "    <tr>\n",
       "      <th>CS Protect</th>\n",
       "      <td>391.49</td>\n",
       "      <td>2.36869e-05</td>\n",
       "      <td>-4.62549</td>\n",
       "    </tr>\n",
       "    <tr>\n",
       "      <th>Neutrality</th>\n",
       "      <td>352.865</td>\n",
       "      <td>3.93733e-05</td>\n",
       "      <td>-4.4048</td>\n",
       "    </tr>\n",
       "    <tr>\n",
       "      <th>Hostile</th>\n",
       "      <td>344.762</td>\n",
       "      <td>5.48856e-05</td>\n",
       "      <td>-4.26054</td>\n",
       "    </tr>\n",
       "    <tr>\n",
       "      <th>Friendly</th>\n",
       "      <td>332.146</td>\n",
       "      <td>6.25315e-05</td>\n",
       "      <td>-4.2039</td>\n",
       "    </tr>\n",
       "    <tr>\n",
       "      <th>Guarded</th>\n",
       "      <td>336.954</td>\n",
       "      <td>7.32004e-05</td>\n",
       "      <td>-4.13549</td>\n",
       "    </tr>\n",
       "    <tr>\n",
       "      <th>War</th>\n",
       "      <td>354.13</td>\n",
       "      <td>7.70964e-05</td>\n",
       "      <td>-4.11297</td>\n",
       "    </tr>\n",
       "    <tr>\n",
       "      <th>CS Bully</th>\n",
       "      <td>359.28</td>\n",
       "      <td>8.48833e-05</td>\n",
       "      <td>-4.07118</td>\n",
       "    </tr>\n",
       "    <tr>\n",
       "      <th>Afraid</th>\n",
       "      <td>317.961</td>\n",
       "      <td>9.00862e-05</td>\n",
       "      <td>-4.04534</td>\n",
       "    </tr>\n",
       "    <tr>\n",
       "      <th>Deceptive</th>\n",
       "      <td>323.384</td>\n",
       "      <td>9.62487e-05</td>\n",
       "      <td>-4.01661</td>\n",
       "    </tr>\n",
       "    <tr>\n",
       "      <th>CS Conquest</th>\n",
       "      <td>362.298</td>\n",
       "      <td>0.000125407</td>\n",
       "      <td>-3.90168</td>\n",
       "    </tr>\n",
       "    <tr>\n",
       "      <th>Naval Tile Improvement</th>\n",
       "      <td>238.691</td>\n",
       "      <td>0.00012578</td>\n",
       "      <td>-3.90039</td>\n",
       "    </tr>\n",
       "    <tr>\n",
       "      <th>Tile Improvement</th>\n",
       "      <td>291.731</td>\n",
       "      <td>0.000135614</td>\n",
       "      <td>-3.86769</td>\n",
       "    </tr>\n",
       "    <tr>\n",
       "      <th>Wonder</th>\n",
       "      <td>309.342</td>\n",
       "      <td>0.000135833</td>\n",
       "      <td>-3.867</td>\n",
       "    </tr>\n",
       "    <tr>\n",
       "      <th>Spaceship</th>\n",
       "      <td>285.587</td>\n",
       "      <td>0.000140905</td>\n",
       "      <td>-3.85107</td>\n",
       "    </tr>\n",
       "    <tr>\n",
       "      <th>CS Friendly</th>\n",
       "      <td>366.978</td>\n",
       "      <td>0.000145868</td>\n",
       "      <td>-3.83604</td>\n",
       "    </tr>\n",
       "    <tr>\n",
       "      <th>Build Nuke</th>\n",
       "      <td>243.314</td>\n",
       "      <td>0.000158031</td>\n",
       "      <td>-3.80126</td>\n",
       "    </tr>\n",
       "    <tr>\n",
       "      <th>Water Connection</th>\n",
       "      <td>302.392</td>\n",
       "      <td>0.000159705</td>\n",
       "      <td>-3.79668</td>\n",
       "    </tr>\n",
       "    <tr>\n",
       "      <th>Naval Recon</th>\n",
       "      <td>230.154</td>\n",
       "      <td>0.000192434</td>\n",
       "      <td>-3.71572</td>\n",
       "    </tr>\n",
       "    <tr>\n",
       "      <th>Use Nuke</th>\n",
       "      <td>294.224</td>\n",
       "      <td>0.000224932</td>\n",
       "      <td>-3.64795</td>\n",
       "    </tr>\n",
       "    <tr>\n",
       "      <th>Recon</th>\n",
       "      <td>264.643</td>\n",
       "      <td>0.000232526</td>\n",
       "      <td>-3.63353</td>\n",
       "    </tr>\n",
       "    <tr>\n",
       "      <th>Production</th>\n",
       "      <td>251.681</td>\n",
       "      <td>0.000278163</td>\n",
       "      <td>-3.5557</td>\n",
       "    </tr>\n",
       "    <tr>\n",
       "      <th>Long Range</th>\n",
       "      <td>257.539</td>\n",
       "      <td>0.000280189</td>\n",
       "      <td>-3.55255</td>\n",
       "    </tr>\n",
       "    <tr>\n",
       "      <th>Science</th>\n",
       "      <td>274.542</td>\n",
       "      <td>0.000308282</td>\n",
       "      <td>-3.51105</td>\n",
       "    </tr>\n",
       "    <tr>\n",
       "      <th>Religion</th>\n",
       "      <td>267.183</td>\n",
       "      <td>0.000385778</td>\n",
       "      <td>-3.41366</td>\n",
       "    </tr>\n",
       "    <tr>\n",
       "      <th>Offense</th>\n",
       "      <td>243.608</td>\n",
       "      <td>0.000390083</td>\n",
       "      <td>-3.40884</td>\n",
       "    </tr>\n",
       "    <tr>\n",
       "      <th>Infrastructure</th>\n",
       "      <td>193.521</td>\n",
       "      <td>0.000589172</td>\n",
       "      <td>-3.22976</td>\n",
       "    </tr>\n",
       "    <tr>\n",
       "      <th>Naval Growth</th>\n",
       "      <td>215.969</td>\n",
       "      <td>0.000732521</td>\n",
       "      <td>-3.13518</td>\n",
       "    </tr>\n",
       "  </tbody>\n",
       "</table>\n",
       "</div>"
      ],
      "text/plain": [
       "                              H            p log10(p)\n",
       "CS Ignore               386.608  2.05236e-05 -4.68775\n",
       "CS Protect               391.49  2.36869e-05 -4.62549\n",
       "Neutrality              352.865  3.93733e-05  -4.4048\n",
       "Hostile                 344.762  5.48856e-05 -4.26054\n",
       "Friendly                332.146  6.25315e-05  -4.2039\n",
       "Guarded                 336.954  7.32004e-05 -4.13549\n",
       "War                      354.13  7.70964e-05 -4.11297\n",
       "CS Bully                 359.28  8.48833e-05 -4.07118\n",
       "Afraid                  317.961  9.00862e-05 -4.04534\n",
       "Deceptive               323.384  9.62487e-05 -4.01661\n",
       "CS Conquest             362.298  0.000125407 -3.90168\n",
       "Naval Tile Improvement  238.691   0.00012578 -3.90039\n",
       "Tile Improvement        291.731  0.000135614 -3.86769\n",
       "Wonder                  309.342  0.000135833   -3.867\n",
       "Spaceship               285.587  0.000140905 -3.85107\n",
       "CS Friendly             366.978  0.000145868 -3.83604\n",
       "Build Nuke              243.314  0.000158031 -3.80126\n",
       "Water Connection        302.392  0.000159705 -3.79668\n",
       "Naval Recon             230.154  0.000192434 -3.71572\n",
       "Use Nuke                294.224  0.000224932 -3.64795\n",
       "Recon                   264.643  0.000232526 -3.63353\n",
       "Production              251.681  0.000278163  -3.5557\n",
       "Long Range              257.539  0.000280189 -3.55255\n",
       "Science                 274.542  0.000308282 -3.51105\n",
       "Religion                267.183  0.000385778 -3.41366\n",
       "Offense                 243.608  0.000390083 -3.40884\n",
       "Infrastructure          193.521  0.000589172 -3.22976\n",
       "Naval Growth            215.969  0.000732521 -3.13518"
      ]
     },
     "execution_count": 19,
     "metadata": {},
     "output_type": "execute_result"
    }
   ],
   "source": [
    "df_kruskal_era[df_kruskal_era['p'] < threshold].sort_values('log10(p)')"
   ]
  },
  {
   "cell_type": "code",
   "execution_count": 20,
   "metadata": {
    "collapsed": false
   },
   "outputs": [
    {
     "data": {
      "image/png": "[encoded data removed]",
      "text/plain": [
       "<matplotlib.figure.Figure at 0x11e1c2e8>"
      ]
     },
     "metadata": {},
     "output_type": "display_data"
    }
   ],
   "source": [
    "''' Plotting p-value distribution with Bonferroni-corrected significance threshold '''\n",
    "threshold = 0.05 / df_kruskal_era.shape[0]\n",
    "log_pvals = df_kruskal_era.loc[:,'log10(p)'].values.astype(float)\n",
    "plt.hist(log_pvals, bins=np.arange(-5,0.25,0.25))\n",
    "plt.axvline(x=np.log10(threshold), c='k', ls='--')\n",
    "plt.xlabel('log10(p-value)')\n",
    "plt.ylabel('# features')\n",
    "plt.text(np.log10(threshold)+0.1, 5, 'p=0.00088')\n",
    "plt.title('Leader Biases vs. Era: Kruskal-Wallis')\n",
    "plt.savefig('figures/bias_vs_era_kruskal_pvalues.png', format='png', dpi=90)"
   ]
  },
  {
   "cell_type": "code",
   "execution_count": 21,
   "metadata": {
    "collapsed": false
   },
   "outputs": [
    {
     "data": {
      "image/png": "[encoded data removed]",
      "text/plain": [
       "<matplotlib.figure.Figure at 0x163d62e8>"
      ]
     },
     "metadata": {},
     "output_type": "display_data"
    }
   ],
   "source": [
    "''' Examining bias distributions by era for top four '''\n",
    "fig, axs = plt.subplots(2, 2, figsize=(8,8))\n",
    "axs = axs.flatten()\n",
    "for i,bias in enumerate(df_kruskal_era.sort_values('log10(p)').index[:4]):\n",
    "    df_tmp = pd.concat([df.loc[:,bias], df_meta.loc[:,'Era']], axis=1)\n",
    "    axs[i] = sns.swarmplot(x=bias, y='Era', data=df_tmp, ax=axs[i], order=eras)\n",
    "    axs[i].set_xlabel(bias + ' (p=' + '{:0.2e}'.format(df_kruskal_era.loc[bias,'p']) + ')')\n",
    "plt.tight_layout()\n",
    "plt.savefig('figures/era_top_bias_split.png', format='png', dpi=90)"
   ]
  },
  {
   "cell_type": "markdown",
   "metadata": {},
   "source": [
    "### 3.3 Leader biases vs. region: Kruskal–Wallis test"
   ]
  },
  {
   "cell_type": "code",
   "execution_count": 22,
   "metadata": {
    "collapsed": true
   },
   "outputs": [],
   "source": [
    "''' Applying Kruskal-Wallis test for region '''\n",
    "biases = filter(lambda x: not x in ignore_biases, df.columns)\n",
    "df_kruskal_region = pd.DataFrame(index=biases, columns=['H', 'p', 'log10(p)'])\n",
    "regions = ['Americas', 'Africa', 'Asia', 'Europe', 'Middle East'] # exclude Oceania, only 2 instances\n",
    "region_values = []\n",
    "for bias in biases:\n",
    "    for region in regions:\n",
    "        region_values.append(df.loc[df_meta['Region'] == region, bias].values)\n",
    "    H, pval = scipy.stats.kruskal(*region_values)\n",
    "    df_kruskal_region.at[bias, 'H'] = H\n",
    "    df_kruskal_region.at[bias, 'p'] = pval\n",
    "    df_kruskal_region.at[bias, 'log10(p)'] = np.log10(pval)"
   ]
  },
  {
   "cell_type": "code",
   "execution_count": 23,
   "metadata": {
    "collapsed": false
   },
   "outputs": [
    {
     "data": {
      "text/html": [
       "<div>\n",
       "<style scoped>\n",
       "    .dataframe tbody tr th:only-of-type {\n",
       "        vertical-align: middle;\n",
       "    }\n",
       "\n",
       "    .dataframe tbody tr th {\n",
       "        vertical-align: top;\n",
       "    }\n",
       "\n",
       "    .dataframe thead th {\n",
       "        text-align: right;\n",
       "    }\n",
       "</style>\n",
       "<table border=\"1\" class=\"dataframe\">\n",
       "  <thead>\n",
       "    <tr style=\"text-align: right;\">\n",
       "      <th></th>\n",
       "      <th>H</th>\n",
       "      <th>p</th>\n",
       "      <th>log10(p)</th>\n",
       "    </tr>\n",
       "  </thead>\n",
       "  <tbody>\n",
       "    <tr>\n",
       "      <th>CS Protect</th>\n",
       "      <td>379.569</td>\n",
       "      <td>0.000126482</td>\n",
       "      <td>-3.89797</td>\n",
       "    </tr>\n",
       "    <tr>\n",
       "      <th>CS Ignore</th>\n",
       "      <td>371.268</td>\n",
       "      <td>0.000178013</td>\n",
       "      <td>-3.74955</td>\n",
       "    </tr>\n",
       "    <tr>\n",
       "      <th>Afraid</th>\n",
       "      <td>312.03</td>\n",
       "      <td>0.000215239</td>\n",
       "      <td>-3.66708</td>\n",
       "    </tr>\n",
       "    <tr>\n",
       "      <th>Neutrality</th>\n",
       "      <td>336.22</td>\n",
       "      <td>0.00041286</td>\n",
       "      <td>-3.3842</td>\n",
       "    </tr>\n",
       "    <tr>\n",
       "      <th>Wonder</th>\n",
       "      <td>300.662</td>\n",
       "      <td>0.000472685</td>\n",
       "      <td>-3.32543</td>\n",
       "    </tr>\n",
       "    <tr>\n",
       "      <th>Deceptive</th>\n",
       "      <td>312.109</td>\n",
       "      <td>0.000478977</td>\n",
       "      <td>-3.31969</td>\n",
       "    </tr>\n",
       "    <tr>\n",
       "      <th>Friendly</th>\n",
       "      <td>317.119</td>\n",
       "      <td>0.000529813</td>\n",
       "      <td>-3.27588</td>\n",
       "    </tr>\n",
       "    <tr>\n",
       "      <th>Hostile</th>\n",
       "      <td>328.395</td>\n",
       "      <td>0.000544366</td>\n",
       "      <td>-3.26411</td>\n",
       "    </tr>\n",
       "    <tr>\n",
       "      <th>CS Bully</th>\n",
       "      <td>344.369</td>\n",
       "      <td>0.000633811</td>\n",
       "      <td>-3.19804</td>\n",
       "    </tr>\n",
       "    <tr>\n",
       "      <th>Guarded</th>\n",
       "      <td>321.394</td>\n",
       "      <td>0.00064359</td>\n",
       "      <td>-3.19139</td>\n",
       "    </tr>\n",
       "    <tr>\n",
       "      <th>Water Connection</th>\n",
       "      <td>291.8</td>\n",
       "      <td>0.000723598</td>\n",
       "      <td>-3.1405</td>\n",
       "    </tr>\n",
       "    <tr>\n",
       "      <th>War</th>\n",
       "      <td>337.156</td>\n",
       "      <td>0.000768536</td>\n",
       "      <td>-3.11434</td>\n",
       "    </tr>\n",
       "    <tr>\n",
       "      <th>CS Conquest</th>\n",
       "      <td>348.091</td>\n",
       "      <td>0.000812205</td>\n",
       "      <td>-3.09033</td>\n",
       "    </tr>\n",
       "  </tbody>\n",
       "</table>\n",
       "</div>"
      ],
      "text/plain": [
       "                        H            p log10(p)\n",
       "CS Protect        379.569  0.000126482 -3.89797\n",
       "CS Ignore         371.268  0.000178013 -3.74955\n",
       "Afraid             312.03  0.000215239 -3.66708\n",
       "Neutrality         336.22   0.00041286  -3.3842\n",
       "Wonder            300.662  0.000472685 -3.32543\n",
       "Deceptive         312.109  0.000478977 -3.31969\n",
       "Friendly          317.119  0.000529813 -3.27588\n",
       "Hostile           328.395  0.000544366 -3.26411\n",
       "CS Bully          344.369  0.000633811 -3.19804\n",
       "Guarded           321.394   0.00064359 -3.19139\n",
       "Water Connection    291.8  0.000723598  -3.1405\n",
       "War               337.156  0.000768536 -3.11434\n",
       "CS Conquest       348.091  0.000812205 -3.09033"
      ]
     },
     "execution_count": 23,
     "metadata": {},
     "output_type": "execute_result"
    }
   ],
   "source": [
    "df_kruskal_region[df_kruskal_region['p'] < threshold].sort_values('log10(p)')"
   ]
  },
  {
   "cell_type": "code",
   "execution_count": 24,
   "metadata": {
    "collapsed": false
   },
   "outputs": [
    {
     "data": {
      "image/png": "[encoded data removed]",
      "text/plain": [
       "<matplotlib.figure.Figure at 0x163d6f98>"
      ]
     },
     "metadata": {},
     "output_type": "display_data"
    }
   ],
   "source": [
    "''' Plotting p-value distribution with Bonferroni-corrected significance threshold '''\n",
    "threshold = 0.05 / df_kruskal_region.shape[0]\n",
    "log_pvals = df_kruskal_region.loc[:,'log10(p)'].values.astype(float)\n",
    "plt.hist(log_pvals, bins=np.arange(-5,0.25,0.25))\n",
    "plt.axvline(x=np.log10(threshold), c='k', ls='--')\n",
    "plt.xlabel('log10(p-value)')\n",
    "plt.ylabel('# features')\n",
    "plt.text(np.log10(threshold)+0.1, 8, 'p=0.00088')\n",
    "plt.title('Leader Biases vs. Region: Kruskal-Wallis')\n",
    "plt.savefig('figures/bias_vs_region_kruskal_pvalues.png', format='png', dpi=90)"
   ]
  },
  {
   "cell_type": "code",
   "execution_count": 25,
   "metadata": {
    "collapsed": false
   },
   "outputs": [
    {
     "data": {
      "image/png": "[encoded data removed]",
      "text/plain": [
       "<matplotlib.figure.Figure at 0x11ed2fd0>"
      ]
     },
     "metadata": {},
     "output_type": "display_data"
    }
   ],
   "source": [
    "''' Examining bias distributions by region for top four '''\n",
    "fig, axs = plt.subplots(2, 2, figsize=(8,8))\n",
    "axs = axs.flatten()\n",
    "for i,bias in enumerate(df_kruskal_region.sort_values('log10(p)').index[:4]):\n",
    "    df_tmp = pd.concat([df.loc[:,bias], df_meta.loc[:,'Region']], axis=1)\n",
    "    axs[i] = sns.swarmplot(x=bias, y='Region', data=df_tmp, ax=axs[i], order=regions)\n",
    "    axs[i].set_xlabel(bias + ' (p=' + '{:0.2e}'.format(df_kruskal_region.loc[bias,'p']) + ')')\n",
    "plt.tight_layout()\n",
    "plt.savefig('figures/region_top_bias_split.png', format='png', dpi=90)"
   ]
  },
  {
   "cell_type": "code",
   "execution_count": null,
   "metadata": {
    "collapsed": true
   },
   "outputs": [],
   "source": []
  }
 ],
 "metadata": {
  "kernelspec": {
   "display_name": "Python 2",
   "language": "python",
   "name": "python2"
  },
  "language_info": {
   "codemirror_mode": {
    "name": "ipython",
    "version": 2
   },
   "file_extension": ".py",
   "mimetype": "text/x-python",
   "name": "python",
   "nbconvert_exporter": "python",
   "pygments_lexer": "ipython2",
   "version": "2.7.12"
  }
 },
 "nbformat": 4,
 "nbformat_minor": 2
}
